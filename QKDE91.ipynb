{
 "cells": [
  {
   "cell_type": "code",
   "execution_count": 148,
   "id": "a54b31ba-513d-4a8a-8257-46952fdcfe4f",
   "metadata": {},
   "outputs": [],
   "source": [
    "from qiskit import QuantumCircuit, QuantumRegister\n",
    "from qiskit_ibm_runtime import QiskitRuntimeService\n",
    "from qiskit.transpiler.preset_passmanagers import generate_preset_pass_manager\n",
    "from qiskit import QuantumCircuit,transpile, assemble\n",
    "from qiskit.visualization import plot_histogram\n",
    "from qiskit.quantum_info.operators import Operator\n",
    "\n",
    "from qiskit_aer import Aer\n",
    "import numpy as np\n",
    "import random"
   ]
  },
  {
   "cell_type": "code",
   "execution_count": 149,
   "id": "ee7193d5-c1e1-4d8b-979f-c0b027a00132",
   "metadata": {},
   "outputs": [],
   "source": [
    "def ChangeBasis(first_basis, second_basis):\n",
    "    first_eigenvalues, first_eigenvectors = np.linalg.eig(first_basis)\n",
    "    second_eigenvalues, second_eigenvectors = np.linalg.eig(second_basis)\n",
    "    U = np.outer(second_eigenvectors[0], first_eigenvectors[0]) + np.outer(second_eigenvectors[1], first_eigenvectors[1])\n",
    "    return U"
   ]
  },
  {
   "cell_type": "code",
   "execution_count": 234,
   "id": "19260c6b-8fc1-4f57-9267-31576f4a09f3",
   "metadata": {},
   "outputs": [],
   "source": [
    "def getStateVector(qc):\n",
    "    qc.save_statevector()\n",
    "    aer_simulator = Aer.get_backend('aer_simulator')\n",
    "    \n",
    "    compiled_circuit = transpile(qc, aer_simulator)\n",
    "    result = aer_simulator.run(compiled_circuit, shots=1).result()\n",
    "    \n",
    "    statevector = result.get_statevector(compiled_circuit)\n",
    "    print(\"Statevector:\", statevector)"
   ]
  },
  {
   "cell_type": "code",
   "execution_count": 235,
   "id": "4af38902-f65f-4639-b3f0-e106bf8f94ad",
   "metadata": {},
   "outputs": [],
   "source": [
    "def measure(qc):\n",
    "        \n",
    "    backend = Aer.get_backend('qasm_simulator')\n",
    "    transpiled_qc = transpile(qc, backend)\n",
    "    qobj = assemble(transpiled_qc, shots=1)\n",
    "    result = backend.run(qc, shots=1).result()\n",
    "    \n",
    "    counts = result.get_counts()\n",
    "    measured_bit = counts.most_frequent()\n",
    "    return measured_bit"
   ]
  },
  {
   "cell_type": "code",
   "execution_count": 236,
   "id": "49ee5aa8-3b7c-4503-99f8-8f6dfff1adbe",
   "metadata": {},
   "outputs": [],
   "source": [
    "def GenerateBellState():\n",
    "    qc = QuantumCircuit(3, 3)\n",
    "    qc.h(0)\n",
    "    qc.cx(0, 1)\n",
    "    qc.cx(1, 2)\n",
    "    return qc"
   ]
  },
  {
   "cell_type": "code",
   "execution_count": 244,
   "id": "de465cff-a4d0-4d85-8e65-b3ac834220c8",
   "metadata": {},
   "outputs": [],
   "source": [
    "def calculate(sequence_leangh, qc, basis):\n",
    "    Alice_basis = random.choices([0, 1, 2], [1/3, 1/3, 1/3], k=sequence_leangh)\n",
    "    Bob_basis = random.choices([1, 2, 3], [1/3, 1/3, 1/3], k=sequence_leangh)\n",
    "    measured_bits = []\n",
    "    for i in range(sequence_leangh):\n",
    "        U = ChangeBasis([[1, 0],[0, -1]], basis[Alice_basis[i]])\n",
    "        U = Operator(U)\n",
    "        qc[i].unitary(U, 0)\n",
    "\n",
    "        U = ChangeBasis([[1, 0],[0, -1]], basis[Bob_basis[i]])\n",
    "        U = Operator(U)\n",
    "        qc[i].unitary(U, 1)\n",
    "        \n",
    "        qc[i].measure(0, 0)\n",
    "        qc[i].measure(1, 1)\n",
    "        qc[i].measure(2, 2)\n",
    "\n",
    "        outcome = measure(qc[i])\n",
    "        #print(Alice_basis[i], Bob_basis[i], outcome)\n",
    "        measured_bits.append(outcome)\n",
    "        \n",
    "\n",
    "    return Alice_basis, Bob_basis, measured_bits\n",
    "        "
   ]
  },
  {
   "cell_type": "code",
   "execution_count": 238,
   "id": "60c6830d-efa8-4c98-b885-82e5bf538854",
   "metadata": {},
   "outputs": [],
   "source": [
    "def correlation(measured_bits):\n",
    "    return sum([1 if a == b else -1 for a, b in measured_bits]) / len(measured_bits)\n"
   ]
  },
  {
   "cell_type": "code",
   "execution_count": 239,
   "id": "1bce02e9-1f7a-4dd5-9c60-66cc49d65fa0",
   "metadata": {},
   "outputs": [],
   "source": [
    "def BellTest(sequeance_leangh, Alice_basis, Bob_basis, measured_bits):\n",
    "    \n",
    "    settings = {\n",
    "        'ab': [], 'ab_prime': [], 'a_prime_b': [], 'a_prime_b_prime': []\n",
    "    }\n",
    "    \n",
    "    for i in range(sequeance_leangh):\n",
    "        if Alice_basis[i] == 0 and Bob_basis[i] == 1:\n",
    "            settings['ab'].append(i)\n",
    "        elif Alice_basis[i] == 0 and Bob_basis[i] == 3:\n",
    "            settings['ab_prime'].append(i)\n",
    "        elif Alice_basis[i] == 2 and Bob_basis[i] == 1:\n",
    "            settings['a_prime_b'].append(i)\n",
    "        elif Alice_basis[i] == 2 and Bob_basis[i] == 3:\n",
    "            settings['a_prime_b_prime'].append(i)\n",
    "\n",
    "    E_ab = correlation(\n",
    "        [measured_bits[i][0:2] for i in settings['ab']])\n",
    "    E_ab_prime = correlation(\n",
    "        [measured_bits[i][0:2] for i in settings['ab_prime']])\n",
    "    E_a_prime_b = correlation(\n",
    "        [measured_bits[i][0:2] for i in settings['a_prime_b']])\n",
    "    E_a_prime_b_prime = correlation(\n",
    "        [measured_bits[i][0:2] for i in settings['a_prime_b_prime']])\n",
    "    print(E_ab, E_ab_prime, E_a_prime_b, E_a_prime_b_prime)\n",
    "\n",
    "    S = abs(E_ab - E_ab_prime + E_a_prime_b + E_a_prime_b_prime)\n",
    "    return S\n",
    "            "
   ]
  },
  {
   "cell_type": "code",
   "execution_count": 242,
   "id": "97d0582b-85e3-4f90-af0c-0787ebefa765",
   "metadata": {},
   "outputs": [],
   "source": [
    "def E91():\n",
    "    sequence_leangh = 500\n",
    "    qc = [GenerateBellState() for i in range(sequence_leangh)]\n",
    "    X = np.array([[0, 1], [1, 0]])\n",
    "    Z = np.array([[1, 0], [0, -1]])\n",
    "    theta = 0\n",
    "    basis = []\n",
    "    basis.append(np.cos(theta) * X + np.sin(theta) * Z)\n",
    "    basis.append(np.cos(theta + np.pi/4) * X + np.sin(theta + np.pi/4) * Z)\n",
    "    basis.append(np.cos(theta + np.pi/2) * X + np.sin(theta + np.pi/2) * Z)\n",
    "    basis.append(np.cos(theta + 3*np.pi/4) * X + np.sin(theta + 3* np.pi/4) * Z)\n",
    "\n",
    "    Alice_basis, Bob_basis, measured_bits = calculate(sequence_leangh, qc, basis)\n",
    "    \n",
    "    S = BellTest(sequence_leangh, Alice_basis, Bob_basis, measured_bits)\n",
    "    print(S)\n"
   ]
  },
  {
   "cell_type": "code",
   "execution_count": 246,
   "id": "5d6b26cc-15d1-4f96-83ef-30473b352fb3",
   "metadata": {},
   "outputs": [
    {
     "name": "stdout",
     "output_type": "stream",
     "text": [
      "0.7142857142857143 0.6862745098039216 0.8367346938775511 0.75\n",
      "1.614745898359344\n"
     ]
    }
   ],
   "source": [
    "E91()"
   ]
  },
  {
   "cell_type": "code",
   "execution_count": 98,
   "id": "7127c473-08ae-4566-8a17-62ab0ea97445",
   "metadata": {},
   "outputs": [
    {
     "data": {
      "text/plain": [
       "array([[1., 0.],\n",
       "       [0., 1.]])"
      ]
     },
     "execution_count": 98,
     "metadata": {},
     "output_type": "execute_result"
    }
   ],
   "source": [
    "X = np.array([[0, 1], [1, 0]])\n",
    "Z = np.array([[1, 0], [0, -1]])\n",
    "theta = 0\n",
    "first_basis = np.cos(theta) * X + np.sin(theta) * Z\n",
    "second_basis = np.cos(theta + np.pi/4) * X + np.sin(theta + np.pi/4) * Z\n",
    "third_basis = np.cos(theta + np.pi/2) * X + np.sin(theta + np.pi/4) * Z\n",
    "ChangeBasis(Z, for)"
   ]
  },
  {
   "cell_type": "code",
   "execution_count": 160,
   "id": "f7dcb3a4-6a08-4b8a-8fb7-7030935a7cc6",
   "metadata": {},
   "outputs": [
    {
     "name": "stdout",
     "output_type": "stream",
     "text": [
      "Statevector: Statevector([0.70710678+0.j, 0.        +0.j, 0.        +0.j,\n",
      "             0.        +0.j, 0.        +0.j, 0.        +0.j,\n",
      "             0.        +0.j, 0.70710678+0.j],\n",
      "            dims=(2, 2, 2))\n"
     ]
    }
   ],
   "source": [
    "qc = QuantumCircuit(3, 3)\n",
    "qc.h(0)\n",
    "qc.cx(0, 1)\n",
    "qc.cx(0, 2)\n",
    "getStateVector(qc)"
   ]
  },
  {
   "cell_type": "code",
   "execution_count": null,
   "id": "caf69eb6-8b35-46df-a8b0-b1b8698133b4",
   "metadata": {},
   "outputs": [],
   "source": []
  },
  {
   "cell_type": "code",
   "execution_count": null,
   "id": "b02fbe5e-3aeb-4b88-a06a-c442830ed25b",
   "metadata": {},
   "outputs": [],
   "source": []
  }
 ],
 "metadata": {
  "kernelspec": {
   "display_name": "quantum",
   "language": "python",
   "name": "quantum"
  },
  "language_info": {
   "codemirror_mode": {
    "name": "ipython",
    "version": 3
   },
   "file_extension": ".py",
   "mimetype": "text/x-python",
   "name": "python",
   "nbconvert_exporter": "python",
   "pygments_lexer": "ipython3",
   "version": "3.11.7"
  }
 },
 "nbformat": 4,
 "nbformat_minor": 5
}
