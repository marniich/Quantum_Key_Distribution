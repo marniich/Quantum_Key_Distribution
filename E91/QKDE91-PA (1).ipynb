{
 "cells": [
  {
   "cell_type": "code",
   "execution_count": 19,
   "id": "f4920357-de47-4e8a-be30-31a9e9485393",
   "metadata": {},
   "outputs": [],
   "source": [
    "sequence_leangh = 4000\n",
    "shellBlock = 10\n",
    "shellIteration = 4"
   ]
  },
  {
   "cell_type": "markdown",
   "id": "359a140b-8c28-4b65-970c-01e1e3bf5913",
   "metadata": {},
   "source": [
    "## **E91 protocol implemention**\n",
    "\n",
    "The E91 protocol is a quantum key distribution (QKD) method that leverages the principles of quantum entanglement to establish a secure communication channel between two parties, typically referred to as Alice and Bob. The protocol begins with a central source generating pairs of entangled particles. One particle from each pair is sent to Alice, and the other is sent to Bob. Alice and Bob are the two parties who wish to establish a secure communication channel. Upon receiving the particles, Alice independently chooses random bases from the set  **S = {Xcos(θ) + Zsin(θ) | θ = 0, π/4, π/2}** to measure her particles. Bob will do the same thing, but with one small difference: he will choose from the basis set **S = {Xcos(θ) + Zsin(θ) | θ = π/4, π/2, 3π/4}**.\n",
    "\n",
    "They will then use a public channel to check their chosen measurement bases. If they measure a pair of entangled qubits with the same basis, they will use the outcome as their weak key. On the other hand, if the qubits were measured in different bases, they would use the results in a Bell inequality to check if the Bell inequality holds or not. If it holds, it means that the qubits were not fully entangled. This could imply that an eavesdropper is intercepting the qubits or that the qubits have been depolarized by the environment.\n",
    "\n",
    "We have implemented these two entanglement killers in the code. You will see an explanation for different parts of the code in each section."
   ]
  },
  {
   "cell_type": "code",
   "execution_count": 9,
   "id": "a54b31ba-513d-4a8a-8257-46952fdcfe4f",
   "metadata": {},
   "outputs": [],
   "source": [
    "from qiskit import QuantumCircuit, QuantumRegister\n",
    "from qiskit_ibm_runtime import QiskitRuntimeService\n",
    "from qiskit import QuantumCircuit,transpile, assemble\n",
    "from qiskit.quantum_info.operators import Operator\n",
    "from qiskit.quantum_info import DensityMatrix, partial_trace, Statevector\n",
    "from qiskit_aer import Aer\n",
    "import numpy as np\n",
    "import random\n",
    "\n",
    "from shell import shell_protocol\n",
    "from privacyAmlification import generate_hash_family, universal_hash_with_index, secure_hash_using_hmac, get_random_bytes\n",
    "from depolarization import bipartite_gate, depolarizing_kraus, channel\n",
    "from BellTest import BellTest"
   ]
  },
  {
   "cell_type": "markdown",
   "id": "2729107a-1460-4367-b8f3-04c59a2827e5",
   "metadata": {},
   "source": [
    "Qiskit can only measure in Z-basis. For measureing in an arbitrary basis, we should first make a Unitary gate that converts basis V to the  basis U. We can calculate this gate by the formuala below:\n",
    "$$\n",
    "\\sum_i \\left| V_i \\right\\rangle \\left\\langle U_i \\right|\n",
    "$$\n",
    "\n",
    "As we do the same for a 2 dimentional space in the ChageBasis function:\n",
    "\n",
    "\\>>>A = [[1, 0], [0, 1]]\n",
    "\n",
    "\\>>>B = [[0, 1], [1, 0]]\n",
    "\n",
    "\\>>>ChangeBasis(A, B)\n",
    "\n",
    "array([[ 0.70710678,  0.70710678],\r\n",
    "       [-0.70710678,  0.70710678]])"
   ]
  },
  {
   "cell_type": "code",
   "execution_count": 10,
   "id": "ee7193d5-c1e1-4d8b-979f-c0b027a00132",
   "metadata": {},
   "outputs": [],
   "source": [
    "def ChangeBasis(first_basis, second_basis):\n",
    "    first_eigenvalues, first_eigenvectors = np.linalg.eig(first_basis)\n",
    "    second_eigenvalues, second_eigenvectors = np.linalg.eig(second_basis)\n",
    "    U = np.outer(second_eigenvectors[0], first_eigenvectors[0]) + np.outer(second_eigenvectors[1], first_eigenvectors[1])\n",
    "    return U"
   ]
  },
  {
   "cell_type": "markdown",
   "id": "05cd841f-88b6-4262-a7da-cbd8dbfd5061",
   "metadata": {},
   "source": [
    "This function takes a boolian variable eve, which determines the accurence of an evesdropper\n",
    "it always makes a 3 qubit system, if eve is listening, it would entagle the thirsd qubit to the other 2 qubits, but if eve is not listening it would return a quantum circuit of 3 qubits which the first 2 are entangled but the third one is completly free.\n",
    "\n",
    "\\>>>QC = GenerateBellState(eve = True)\n",
    "\n",
    "\\>>> QC\n",
    "\n",
    "<qiskit.circuit.quantumcircuit.QuantumCircuit at 0x20c095a6210>\r\n",
    "\n",
    "\\>>>Statevector(qc)\n",
    "\n",
    "Statevector([0.70710678+0.j, 0.        +0.j, 0.        +0.j,\r\n",
    "             0.        +0.j, 0.        +0.j, 0.        +0.j,\r\n",
    "             0.        +0.j, 0.70710678+0.j],\r\n",
    "            dims=(2, 2, 2))\n"
   ]
  },
  {
   "cell_type": "code",
   "execution_count": 11,
   "id": "1e7a06c3-731c-4ddb-8481-e8f2e4c96bcc",
   "metadata": {},
   "outputs": [],
   "source": [
    "def GenerateBellState(eve = False):\n",
    "    qc = QuantumCircuit(3, 3)\n",
    "    qc.h(0)\n",
    "    qc.cx(0, 1)\n",
    "    if eve:\n",
    "        qc.cx(1, 2)\n",
    "        \n",
    "    return qc"
   ]
  },
  {
   "cell_type": "markdown",
   "id": "fd33fe30-35db-444f-8f80-dca332570714",
   "metadata": {},
   "source": [
    "This function will measure a QuantumCircuit and returns a string that contains the resauly of measurment.\n",
    "\n",
    "\\>>>measure(QC)\n",
    "\"111\""
   ]
  },
  {
   "cell_type": "code",
   "execution_count": 12,
   "id": "4af38902-f65f-4639-b3f0-e106bf8f94ad",
   "metadata": {},
   "outputs": [],
   "source": [
    "def measure(qc):      \n",
    "    backend = Aer.get_backend('qasm_simulator')\n",
    "    transpiled_qc = transpile(qc, backend)\n",
    "    qobj = assemble(transpiled_qc, shots=1)\n",
    "    result = backend.run(qc, shots=1).result()\n",
    "    \n",
    "    counts = result.get_counts()\n",
    "    measured_bit = counts.most_frequent()\n",
    "    return measured_bit"
   ]
  },
  {
   "cell_type": "markdown",
   "id": "87699193-7c94-4e27-b704-1aff58e98060",
   "metadata": {},
   "source": [
    "This function will return the result of measurment as the previous function, but it takes  $\\rho$ instead of QuantumCircuit\n",
    "\n",
    "\\>>> rho = [[0.5 0 0 0 0 0 0 0],\n",
    "            [0 0 0 0 0 0 0 0],\n",
    "            [0 0 0 0 0 0 0 0],\n",
    "            [0 0 0 0 0 0 0 0],\n",
    "            [0 0 0 0 0 0 0 0],\n",
    "            [0 0 0 0 0 0 0 0],\n",
    "            [0 0 0 0 0 0 0 0],\n",
    "            [0 0 0 0 0 0 0 0.5]]\n",
    "            \n",
    "\\>>> measure_depolarizarion(rho)\n",
    "\n",
    "\"000\""
   ]
  },
  {
   "cell_type": "code",
   "execution_count": 13,
   "id": "968ba24a-488e-4f96-bff9-387e3fa978eb",
   "metadata": {},
   "outputs": [],
   "source": [
    "def measure_depolarization(rho):\n",
    "    outcome = \"\"\n",
    "    cdf = [0]\n",
    "    for i in range(0, rho.shape[0]):\n",
    "        cdf.append(cdf[i] + rho[i][i])\n",
    "\n",
    "    rand = np.random.rand()\n",
    "    \n",
    "    for i in range(len(cdf)):\n",
    "        if rand < cdf[i]:\n",
    "            outcome = format(i-1, '03b')\n",
    "            break\n",
    "\n",
    "    return outcome\n",
    "    \n",
    "    "
   ]
  },
  {
   "cell_type": "markdown",
   "id": "fd5dc46f-b6e8-47ae-bea6-54f591d3d71d",
   "metadata": {},
   "source": [
    "This function is an inner function tht will be called by ***E91*** function and implements the E91 protocol. In the Ende it will return  Alices and Bobs chosen basis, and their measured bits."
   ]
  },
  {
   "cell_type": "code",
   "execution_count": 14,
   "id": "de465cff-a4d0-4d85-8e65-b3ac834220c8",
   "metadata": {},
   "outputs": [],
   "source": [
    "def calculate(sequence_leangh, qc, basis, depolarization=False, p=1/2, q=1/2):\n",
    "    Alice_basis = random.choices([0, 1, 2], [1/3, 1/3, 1/3], k=sequence_leangh)\n",
    "    Bob_basis = random.choices([1, 2, 3], [1/3, 1/3, 1/3], k=sequence_leangh)\n",
    "    measured_bits = []\n",
    "    for i in range(sequence_leangh):\n",
    "\n",
    "        if depolarization == True:\n",
    "            rho = np.outer(np.array(Statevector(qc[i])), np.array(Statevector(qc[i])).conj())\n",
    "            dep_channel = bipartite_gate(depolarizing_kraus(p), depolarizing_kraus(q))\n",
    "            rho = channel(rho,dep_channel)\n",
    "\n",
    "            U = ChangeBasis([[1, 0],[0, -1]], basis[Alice_basis[i]])\n",
    "            U = np.kron(np.kron(np.eye(2), np.eye(2)), U)\n",
    "            rho = np.matmul(np.matmul(U, rho), U.conj().T)\n",
    "            \n",
    "            U = ChangeBasis([[1, 0],[0, -1]], basis[Bob_basis[i]])\n",
    "            U = np.kron(np.eye(2), np.kron(U, np.eye(2)))\n",
    "            rho = np.matmul(np.matmul(U, rho), U.conj().T)\n",
    "\n",
    "            outcome = measure_depolarization(rho)\n",
    "            measured_bits.append(outcome)\n",
    "            \n",
    "        \n",
    "        elif depolarization == False:\n",
    "            U = ChangeBasis([[1, 0],[0, -1]], basis[Alice_basis[i]])\n",
    "            U = Operator(U)\n",
    "            qc[i].unitary(U, 0)\n",
    "            U = ChangeBasis([[1, 0],[0, -1]], basis[Bob_basis[i]])\n",
    "            U = Operator(U)\n",
    "            qc[i].unitary(U, 1)\n",
    "            \n",
    "            qc[i].measure(0,0)\n",
    "            qc[i].measure(1, 1)\n",
    "            qc[i].measure(2, 2)\n",
    "            outcome = measure(qc[i])\n",
    "            measured_bits.append(outcome)\n",
    "\n",
    "\n",
    "        \n",
    "\n",
    "    return Alice_basis, Bob_basis, measured_bits\n",
    "        "
   ]
  },
  {
   "cell_type": "code",
   "execution_count": 15,
   "id": "0c290940-282f-4008-be51-2474e766547b",
   "metadata": {},
   "outputs": [],
   "source": [
    "def extract_matching_bits(Alice_basis, Bob_basis, measured_bits):\n",
    "    weak_key_alice = []\n",
    "    weak_key_bob = []\n",
    "    \n",
    "    for i in range(len(Alice_basis)):\n",
    "        if Alice_basis[i] == Bob_basis[i]:\n",
    "            weak_key_alice.append(measured_bits[i][2])\n",
    "            weak_key_bob.append(measured_bits[i][1])\n",
    "    \n",
    "    return weak_key_alice, weak_key_bob\n",
    "\n",
    "def calculate_difference_percentage(weak_key_alice, weak_key_bob):\n",
    "\n",
    "    weak_key_alice = [int(bit) for bit in weak_key_alice]\n",
    "    weak_key_bob = [int(bit) for bit in weak_key_bob]\n",
    "\n",
    "    differing_bits = sum(1 for i in range(len(weak_key_alice)) if weak_key_alice[i] != weak_key_bob[i])\n",
    "\n",
    "    difference_percentage = (differing_bits / len(weak_key_alice)) * 100\n",
    "\n",
    "    return difference_percentage\n",
    "\n",
    "def compare_and_display_key_difference(weak_key_alice, weak_key_bob):\n",
    "\n",
    "    difference_percentage = calculate_difference_percentage(weak_key_alice, weak_key_bob)\n",
    "    print(f\"Alice's key: {weak_key_alice}\")\n",
    "    print(f\"Bob's key: {weak_key_bob}\")\n",
    "    print(f\"Difference between Alice's and Bob's weak keys: {difference_percentage:.2f}%\")\n",
    "    print()"
   ]
  },
  {
   "cell_type": "code",
   "execution_count": 16,
   "id": "97d0582b-85e3-4f90-af0c-0787ebefa765",
   "metadata": {},
   "outputs": [],
   "source": [
    "def E91(sequence_leangh, shellBlock, shellIteration, eve = False, depolarization = False, p = 1/2, q = 1/2):\n",
    "    \n",
    "    qc = [GenerateBellState(eve) for i in range(sequence_leangh)]\n",
    "    X = np.array([[0, 1], [1, 0]])\n",
    "    Z = np.array([[1, 0], [0, -1]])\n",
    "    theta = 0\n",
    "    basis = []\n",
    "    \n",
    "    basis.append(np.cos(theta) * X + np.sin(theta) * Z)\n",
    "    basis.append(np.cos(theta + np.pi/4) * X + np.sin(theta + np.pi/4) * Z)\n",
    "    basis.append(np.cos(theta + np.pi/2) * X + np.sin(theta + np.pi/2) * Z)\n",
    "    basis.append(np.cos(theta + 3*np.pi/4) * X + np.sin(theta + 3*np.pi/4) * Z)\n",
    "\n",
    "    Alice_basis, Bob_basis, measured_bits = calculate(sequence_leangh, qc, basis, depolarization, p, q)\n",
    "\n",
    "    S = BellTest(sequence_leangh, Alice_basis, Bob_basis, measured_bits)\n",
    "    print(\"Bell test's experimental value:\", S)\n",
    "    print()\n",
    "    \n",
    "    #----------------------------------------------------------#\n",
    "    \n",
    "    weak_key_alice, weak_key_bob = extract_matching_bits(Alice_basis, Bob_basis, measured_bits)\n",
    "    weak_key_alice = ''.join(weak_key_alice)\n",
    "    weak_key_bob = ''.join(weak_key_bob)\n",
    "    print(\"weak keys:\")\n",
    "    compare_and_display_key_difference(weak_key_alice, weak_key_bob)\n",
    "\n",
    "    #----------------------------------------------------------#\n",
    "    \n",
    "    string1 = list(weak_key_alice)\n",
    "    string2 = list(weak_key_bob)\n",
    "    s1, s2 = shell_protocol(string1, string2, shellBlock, shellIteration)\n",
    "    reconcilated_key_Alice = ''.join(s1)\n",
    "    reconcilated_key_Bob = ''.join(s2) \n",
    "    print(\"reconcilated keys:\")\n",
    "    compare_and_display_key_difference(reconcilated_key_Alice, reconcilated_key_Bob)\n",
    "\n",
    "    #----------------------------------------------------------#\n",
    "    \n",
    "    final_key_length = 32  \n",
    "    family_size = 256\n",
    "    key_length = len(weak_key_alice)\n",
    "    hash_family = generate_hash_family(final_key_length, key_length, family_size)\n",
    "    \n",
    "    chosen_hash_index = random.randint(0, family_size - 1)\n",
    "    print(f\"Alice's chosen hash index: {chosen_hash_index}\")\n",
    "\n",
    "    H_alice = hash_family[chosen_hash_index]\n",
    "    H_bob = hash_family[chosen_hash_index]\n",
    "\n",
    "    hashed_key_alice = universal_hash_with_index(reconcilated_key_Alice, H_alice)\n",
    "    hashed_key_bob = universal_hash_with_index(reconcilated_key_Bob, H_bob)\n",
    "    #print(f\"Hashed key for Alice: {hashed_key_alice}\")\n",
    "    #print(f\"Hashed key for Bob: {hashed_key_bob}\")\n",
    "\n",
    "    secret_key = get_random_bytes(16)\n",
    "    final_secure_key_alice = secure_hash_using_hmac(secret_key, hashed_key_alice)\n",
    "    final_secure_key_bob = secure_hash_using_hmac(secret_key, hashed_key_bob)\n",
    "    print(f\"Final secure key for Alice: {final_secure_key_alice}\")\n",
    "    print(f\"Final secure key for Bob: {final_secure_key_bob}\")\n",
    "\n",
    "\n",
    "    "
   ]
  },
  {
   "cell_type": "markdown",
   "id": "04cffac6-1692-44d1-8851-092fc258bf88",
   "metadata": {},
   "source": [
    "E91 is the final function and by calling this simple function you can simulate the ***E91*** protocol.\n",
    "\n",
    "E91(sequence_leangh, shellBlock, shellIteration, eve = False, depolarization = False, p = 1/2, q = 1/2):\n",
    "\n",
    "lets explain what each intety means:\n",
    "\n",
    "sequence_leangh sequence_leangh is leangh of the EPR pairs that, EPR source will send to both paries\n",
    "\n",
    "shellBlock is a parameter in shell protocol wich determines each asking session betwean Alice and Bob contains a block with this size\n",
    "\n",
    "shellIteration: the number of times shell protocol is applied to the string.\n",
    "\n",
    "eve: determines presens of eve\n",
    "\n",
    "depolarization: determines presens of depolarization nose\n",
    "\n",
    "p: parameter that determines with what probabilty the first qubit is depolarized\n",
    "q: parameter that determines with waht probabilty the second qubit is depolarized \n",
    "\n",
    "bellow you can see some examples of using this function and their results.\n",
    "\n"
   ]
  },
  {
   "cell_type": "code",
   "execution_count": 21,
   "id": "5d6b26cc-15d1-4f96-83ef-30473b352fb3",
   "metadata": {},
   "outputs": [
    {
     "name": "stdout",
     "output_type": "stream",
     "text": [
      "Bell test's experimental value: 2.771123685610079\n",
      "\n",
      "weak keys:\n",
      "Alice's key: 0010110010111101001011111100001000001000100101110111100111000000000010111010010010001101001001100010000000101110101001011100001010101110011011110000010110101100101000111110011011000100110011000011000010010010111101111011110101000011010100111111110000101010101100111111100100000010000101000101101100110111011010110101010111100101010100110000101011110010001111101000011100100010101010100110111110110011100101001110110110101101110010111110000110010001110010010001100010011010101000010101001110000000010100010010111011010000000010000011000101100000011000010100010100000010011111000011011110001001110011100011110011010010001111000101000010000111010010010000111111111000111010111001100001101000010101001001011100011110100011000110001110111100010010001010001010110001001101110010011111000001000000110101001001000011000000101100001000000000011000101100101001101000111001111000101111110000011011110110111\n",
      "Bob's key: 0010110010111101001011111100001000001000100101110111100111000000000010111010010010001101001001100010000000101110101001011100001010101110011011110000010110101100101000111110011011000100110011000011000010010010111101111011110101000011010100111111110000101010101100111111100100000010000101000101101100110111011010110101010111100101010100110000101011110010001111101000011100100010101010100110111110110011100101001110110110101101110010111110000110010001110010010001100010011010101000010101001110000000010100010010111011010000000010000011000101100000011000010100010100000010011111000011011110001001110011100011110011010010001111000101000010000111010010010000111111111000111010111001100001101000010101001001011100011110100011000110001110111100010010001010001010110001001101110010011111000001000000110101001001000011000000101100001000000000011000101100101001101000111001111000101111110000011011110110111\n",
      "Difference between Alice's and Bob's weak keys: 0.00%\n",
      "\n",
      "reconcilated keys:\n",
      "Alice's key: 1100011100000101000100100101110100111000110011011000001110101000000000001000101000101100010001101111001010100110110001101111001001110100101011001110011100010001110100010011010100010001010101000011100010010000111010001010101001101011010101100101100101010110001001100010011101100101001011001100100001100111010111011001000111101010101010110101001000000110001001001011011000011001101000110000001001010100001100111010011101111111000111100110100000100011000001110010000001000001011100101100111100010010010001111110001011110011011010111010001110111000101111101011111011111011100101011000010000011101011001011000101011111010000001000110000000101100111110011110110011100110010110000001001100011101110100111100101000111100010111011010100011010010110101100101100000111100100110011100110001101100001100100110101001011100010011000000001110101100010011001000001100100001101101110011001111011000000000000111000\n",
      "Bob's key: 1100011100000101000100100101110100111000110011011000001110101000000000001000101000101100010001101111001010100110110001101111001001110100101011001110011100010001110100010011010100010001010101000011100010010000111010001010101001101011010101100101100101010110001001100010011101100101001011001100100001100111010111011001000111101010101010110101001000000110001001001011011000011001101000110000001001010100001100111010011101111111000111100110100000100011000001110010000001000001011100101100111100010010010001111110001011110011011010111010001110111000101111101011111011111011100101011000010000011101011001011000101011111010000001000110000000101100111110011110110011100110010110000001001100011101110100111100101000111100010111011010100011010010110101100101100000111100100110011100110001101100001100100110101001011100010011000000001110101100010011001000001100100001101101110011001111011000000000000111000\n",
      "Difference between Alice's and Bob's weak keys: 0.00%\n",
      "\n",
      "Alice's chosen hash index: 4\n",
      "Final secure key for Alice: 2c45d20ef7906dd014861384f703a6a53bd0cb50c017f2855bc67ab3cd65cec7\n",
      "Final secure key for Bob: 2c45d20ef7906dd014861384f703a6a53bd0cb50c017f2855bc67ab3cd65cec7\n"
     ]
    }
   ],
   "source": [
    "E91(sequence_leangh, shellBlock, shellIteration)"
   ]
  },
  {
   "cell_type": "code",
   "execution_count": 22,
   "id": "f8c95c5c-06f5-4982-ad5e-5fc427b00528",
   "metadata": {},
   "outputs": [
    {
     "name": "stdout",
     "output_type": "stream",
     "text": [
      "Bell test's experimental value: 2.343319760302724\n",
      "\n",
      "weak keys:\n",
      "Alice's key: 11111111000100100001010011100101010100110100111000100100100101111000100110001000111010111100010111100011010001111000100000101001011001111101000000001011011010100111101011110011101010101000000010000011001111110010000100011101110111000111101010001111011010110101110101011100000010000110000011010101111001110000110110110111001011111101111100000101000000111010011010001001010110000001100111010010111010011000001101111101000111000001000010100111111111101100011111000011010000000111100110100011011001101001010101001101011101101000010001011001010101111010100111101111001000111101110010101101010010111001110111101001010111101000100110011000100111000101101011110101111010001101010101110000101101000011100010110110011100101001011000111010101101101111100011010111000000111011111011000101011111010001101111111010111100000010110000110000011100011000011100000001111100111\n",
      "Bob's key: 11011111000100100011010011100101010100010100111000100100100101101000100110001000111010111100010111110010010001111000100000101001011001111101100000001001011010100111100011110011101010101000000001000011111111110000000100010001100111000101101000001111011010110101010101011100000010000110000010010111111001110000111111110111011011011101111100000101010000111010011010101001010110000001110111010010101010011000001101111101000111000000000010100111111011101101011111100011010000010111100110100011011101101001011101000111011101101000110001011001010101111010101111101111101001111101010011111101010010111011110111001001010111101000100110001000000111000101101011110111111110000101010101110000101101010011100010011100111100111001011100111010101100101011101011010111000000111011011010000101011101000001101111111110111000000010010001110000011100011100011100100001111100111\n",
      "Difference between Alice's and Bob's weak keys: 8.52%\n",
      "\n",
      "reconcilated keys:\n",
      "Alice's key: 01000010111001001101001000010001100111111111010011010000000011110011111100111010011111000110100000010110110101001010010111101100101111001100111101110010101101000110000100000000000111001100100001010100011000111100001110001000101000000011010110000101111001110001111001010100101011001010000011001011001011001110010111011111101110110111011100001110101100010000001101100000011011101011110011011001100000010001010111101010111100000111011110011110101001001000101101011110000100111101111101011110110101100111010111101111111100011000000101100100001011001101011001111000111101101011000011100111110000110110110000111100000001011011111010110111110000101001101001110100100110001111111011100001001001000001011011100001100010100001001011110110110001100011011001011010010100111011111000001010111001011001001010011011111011111000110100101011111101111001010001011100000100101\n",
      "Bob's key: 01000010111001001101001000010001100111111111010011010000000011110011111100111010011111000110100000010110110101001010010111101100101111001100111101110010101101000110000100000000000111001100100001010100011000111100001110001000101000000011010110000101111001110001111001010100101011001010000011001011001011001110010111011111101110110111011100001110101100010000001101100000011011101011110011011001100000010001010111101010111100000111011110011110101001001000101101011110000100111101111101011110110101100111010111101111111100011000000101100100001011001101011001111000111101101011000011100111110000110110110000111100000001011011111010110111110000101001101001110100100110001111111011100001001001000001011011100001100010100001001011110110110001100011011001011010010100111011111000001010111001011001001010011011111011111000110100101011111101111001010001011100000100101\n",
      "Difference between Alice's and Bob's weak keys: 0.00%\n",
      "\n",
      "Alice's chosen hash index: 242\n",
      "Final secure key for Alice: 7c76ef6cc714e4c2049a81cfd4350cd356b9a71f4c5b276cfe3d4c4a6c68bcb2\n",
      "Final secure key for Bob: 7c76ef6cc714e4c2049a81cfd4350cd356b9a71f4c5b276cfe3d4c4a6c68bcb2\n"
     ]
    }
   ],
   "source": [
    "E91(sequence_leangh, shellBlock, shellIteration, depolarization = True, p = 0.1, q = 0.1)"
   ]
  },
  {
   "cell_type": "code",
   "execution_count": 23,
   "id": "da1f731a-4ec0-4285-833b-99e54ff81ba5",
   "metadata": {},
   "outputs": [
    {
     "name": "stdout",
     "output_type": "stream",
     "text": [
      "Bell test's experimental value: 1.4558084624301495\n",
      "\n",
      "weak keys:\n",
      "Alice's key: 101110001010011001110111101110011111011111110011111010100101010100110001110011100111001011111100101111001000000000101011010000101101111010110101111110010100111110010001011100001101111001011010111010010000010001000010010111011011011111110001000100110110110000111110011101110101101010011001001001000000001101010101000100001010010110101010000111110011110100001101110001001111001000010010010111101001101110111101111110101110101111101110110101111101100001110111010100001100010110010100010000011110111011110111100101111100011101011000100011111001000101010101101100011100010111010010100101110000000001100000100011001011101101000001000111010000110111011001000110101010010100000110001110101101010100000101100001110001001010111011101011110000111001010010011101000111101100001110000100100000111001110100010010000100011010111110001001000101011010111111001101100110010111010000011111011001110101\n",
      "Bob's key: 001110001010011000110111101110011111111011010001110010100101010101110011110011100100101011101100111111000000001000010011110001111101111010010101111111010100110111010001011100001101110001010010111010010100010001000010010101010001011111110001001101110110110100110010001101111101101010011001001011000000101101010111000100001010010110101010010001111011110100001001110001101111001000110010010111101001111110111101110100101110101111100110110101111100110000110111010010101100010111010100000100011101111010110111100101111100010101001000100011111001000001010101101001011000010111000011110101000100010001110000100011001011101101000001000111010000110111011011000110101000010100000110101110001101010100100101100001010001001000101001001011110010101101010000000101000111101100001011000001100000111001110100010010000100011010111110001011010111111010111111001000100110110011010000111111110001110111\n",
      "Difference between Alice's and Bob's weak keys: 12.59%\n",
      "\n",
      "reconcilated keys:\n",
      "Alice's key: 010001000010110101110100111110001111100111110110010101101011011001110011010000000010000011101110001010110101111011100011100101010010011011000011111010000110011011111100011111001101101001000010000010101111110101001011111101101111011001110111011001010010110111001001100010010100110101110100110000000010101001010010011101011110000011001011001010110010011001101010000111111111010011000000101011011100100111000100011001010000011000101011000011100110001010010010101011000100010001111000111110110010101110100011011011101110000110101111001110101111011110101000011001000001011100111101110100010010001100011111010001010011100101100111101111001100110000110011001111010011010110111001111100010011101100101001110001110000100001101110001011010000010111111001111000001011110111110111110011100100011011101101010010100101010000010001000110111101001000010101100100000100111010001000101101111111111001\n",
      "Bob's key: 010001000010110101110100111110001111100111110110010101101011011001110011010000000010000011101110001010110101111011100011100101010010011011000011111010000110011011111100011111001101101001000010000010101111110101001011111101101111011001110111011001010010110111001001100010010100110101110100110000000010101001010010011101011110000011001011001010110010011001101010000111111111010011000000101011011100100111000100011001010000011000101011000011100110001010010010101011000100010001111000111110110010101110100011011011101110000110101111001110101111011110101000011001000001011100111101110100010010001100011111010001010011100101100111101111001100110000110011001111010011010110111001111100010011101100101001110001110000100001101110001011010000010111111001111000001011110111110111110011100100011011101101010010100101010000010001000110111101001000010101100100000100111010001000101101111111111001\n",
      "Difference between Alice's and Bob's weak keys: 0.00%\n",
      "\n",
      "Alice's chosen hash index: 245\n",
      "Final secure key for Alice: 36367e3638d4a899aac53b9a0a14e211837b8175acdfb0973726fe15d5ccc0c3\n",
      "Final secure key for Bob: 36367e3638d4a899aac53b9a0a14e211837b8175acdfb0973726fe15d5ccc0c3\n"
     ]
    }
   ],
   "source": [
    "E91(sequence_leangh, shellBlock, shellIteration, eve = True)"
   ]
  },
  {
   "cell_type": "code",
   "execution_count": 24,
   "id": "4a9e6997-1bfc-4a6d-81a1-4f6567bcbc79",
   "metadata": {},
   "outputs": [
    {
     "name": "stdout",
     "output_type": "stream",
     "text": [
      "Bell test's experimental value: 1.074896013055035\n",
      "\n",
      "weak keys:\n",
      "Alice's key: 000110010011101101111001101000010001011100110000011101111001011011000110010000000001100011011010010100100101001111001000110011011110100110011010011011000110000010011011111110101110110111010010011101101011100001000110101110011011000000110010101100101111001101000000000110101011011101011011111011000111011000011110011010111110000001010111001011101110010110101010111010100110111010011000100000110100001111010101001001011101010011011010000000101101101001100100001011111110011011101011111010111101110101111011100000110111101011110010010101010001100010100000011110001010000110100100000011000000111000111101111010000111010100010110000001110010001110110100000000110110001110111101000001100000100111101101110011100000000011011000101110110000011011011110010111101101000011010000100110001010101010100010000010111101010100101101010000100101000101000001000111100001110010011110111010\n",
      "Bob's key: 000110000011101100101001101000010001001100110100001101111011011001001100010001010001110011011011010100100101101111001110111011111100100010001110010111000110010000011011111100100110110101110011011101101011100001000110101111111001000000110011101100100011001101010011000011101011001101001000101111000111011000011001111011110010010001010100011011111110000111101010111010100110011100011000001001100111001111110011001011111001010111011110000001100101101001100100011010110011101011101101101011110101110101101011100101111111101011110010011101010101001010100110011010101010010110000100000011000000110000111101110110000100110100010100000001100010001111110000001000011111001111001110001101100000110110111110011001100000100001000111101100010010001000011100110011101001000011110000110101001111001100100010000010111100000100001100010110000101010101000001000101100001011010101010111011\n",
      "Difference between Alice's and Bob's weak keys: 20.46%\n",
      "\n",
      "reconcilated keys:\n",
      "Alice's key: 101100010101010100110101101010000010100001111001110100000001010100010101011000001110100101100000101110001011100100110000001010000110000001110100110011111110010100010110101011000111100011101110001011110011111100000000101101111101000001100001001011011110000000010111010001001010110000001110111111100010001011011110011001101111100110100010011010000000000101100100010111001000011000101100001100011111000111010100100100011010111011101110110001110001010110010111010110101001110011101100010011110101000001110110100110101001011011100101101001110010111011101001111100010000101100000100110101110100010101111010011111101000000111010010010111111111001011110011101011110100010000100101011011011101001001101100110101100101100110101010111010010101000000010000010111001100011011010000010101111101100001111110100110001101100110100001010000011100100110110111101110010101110000001010011010\n",
      "Bob's key: 101100010101010101110101101010000010100001111001110100000001010100010001011000001110100101100000101110001011100100110000001010000110000001110100110011111110010100010110101011000111100011100110001011110011111100000000101101111101000101100001001011011110000000010111010001001010110000001110111111100010001011011110011001101111100110100010011010000000000001100100011111011000011000101100001100011111000111010101100100011010111011101110110001110001010110010111010110101001110011101100010011110101000001110110100110101001011011100101101001111010111011101001111100010000101100000100110101010100010101101010011111101000000111010110010111111111001011110011101010110100010000100001011011011101001011101100110101100101100010101010111010010101000000010000010111001100011011010000010101111101100001111110100110001101100110010001010000011100100110110111101110010101110000001010011010\n",
      "Difference between Alice's and Bob's weak keys: 2.07%\n",
      "\n",
      "Alice's chosen hash index: 138\n",
      "Final secure key for Alice: ff0130142ca527b79f2fdfc896d9ca71db6901e2f0b9bcd37d2db6a7b0a78195\n",
      "Final secure key for Bob: 3a9cf5a82c519c2ece8be9d718b850a7772e891c929a770c2106690ad028bba0\n"
     ]
    }
   ],
   "source": [
    "E91(sequence_leangh, shellBlock, shellIteration, eve = True, depolarization = True, p = 0.1, q = 0.1)"
   ]
  },
  {
   "cell_type": "code",
   "execution_count": null,
   "id": "35fb4a60-9b35-4f42-99ec-745bb228aec3",
   "metadata": {},
   "outputs": [],
   "source": []
  },
  {
   "cell_type": "code",
   "execution_count": null,
   "id": "9743c32c-0c0e-417c-815d-2cbe2f7d21d8",
   "metadata": {},
   "outputs": [],
   "source": []
  },
  {
   "cell_type": "code",
   "execution_count": null,
   "id": "cc1e61f3-bf62-4d9a-9870-3ea2b55263eb",
   "metadata": {},
   "outputs": [],
   "source": []
  },
  {
   "cell_type": "code",
   "execution_count": null,
   "id": "73f21bc7-adbd-45ce-bd95-d248c7a61dd4",
   "metadata": {},
   "outputs": [],
   "source": []
  },
  {
   "cell_type": "code",
   "execution_count": null,
   "id": "94d15378-0708-4119-b9ec-f993383f854c",
   "metadata": {},
   "outputs": [],
   "source": []
  },
  {
   "cell_type": "code",
   "execution_count": null,
   "id": "e6b3a7c9-cafb-459e-adc9-68d94d0796f1",
   "metadata": {},
   "outputs": [],
   "source": []
  },
  {
   "cell_type": "code",
   "execution_count": null,
   "id": "7a66ab74-4ba4-4b26-9a24-4c9c5ab308a4",
   "metadata": {},
   "outputs": [],
   "source": []
  },
  {
   "cell_type": "code",
   "execution_count": null,
   "id": "56323507-a025-4048-88c6-ebb2ff13ec60",
   "metadata": {},
   "outputs": [],
   "source": []
  },
  {
   "cell_type": "code",
   "execution_count": null,
   "id": "48c0ec63-02f9-4b98-8986-1db820853cc1",
   "metadata": {},
   "outputs": [],
   "source": []
  },
  {
   "cell_type": "code",
   "execution_count": null,
   "id": "97d95f3f-c9b8-4166-8e0b-faecdb06a410",
   "metadata": {},
   "outputs": [],
   "source": []
  }
 ],
 "metadata": {
  "kernelspec": {
   "display_name": "Python 3 (ipykernel)",
   "language": "python",
   "name": "python3"
  },
  "language_info": {
   "codemirror_mode": {
    "name": "ipython",
    "version": 3
   },
   "file_extension": ".py",
   "mimetype": "text/x-python",
   "name": "python",
   "nbconvert_exporter": "python",
   "pygments_lexer": "ipython3",
   "version": "3.11.7"
  }
 },
 "nbformat": 4,
 "nbformat_minor": 5
}
