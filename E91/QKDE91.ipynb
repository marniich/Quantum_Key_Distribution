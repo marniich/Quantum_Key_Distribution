{
 "cells": [
  {
   "cell_type": "code",
   "execution_count": 24,
   "id": "f4920357-de47-4e8a-be30-31a9e9485393",
   "metadata": {},
   "outputs": [],
   "source": [
    "sequence_leangh = 1000\n",
    "shellBlock = 10\n",
    "shellIteration = 4"
   ]
  },
  {
   "cell_type": "code",
   "execution_count": 2,
   "id": "a54b31ba-513d-4a8a-8257-46952fdcfe4f",
   "metadata": {},
   "outputs": [],
   "source": [
    "from qiskit import QuantumCircuit, QuantumRegister\n",
    "from qiskit_ibm_runtime import QiskitRuntimeService\n",
    "from qiskit import QuantumCircuit,transpile, assemble\n",
    "from qiskit.quantum_info.operators import Operator\n",
    "from qiskit.quantum_info import DensityMatrix, partial_trace, Statevector\n",
    "from qiskit_aer import Aer\n",
    "import numpy as np\n",
    "import random\n",
    "\n",
    "from shell import shell_protocol\n",
    "from privacyAmlification import generate_hash_family, universal_hash_with_index, secure_hash_using_hmac, get_random_bytes\n",
    "from depolarization import bipartite_gate, depolarizing_kraus, channel\n",
    "from BellTest import BellTest"
   ]
  },
  {
   "cell_type": "code",
   "execution_count": 3,
   "id": "ee7193d5-c1e1-4d8b-979f-c0b027a00132",
   "metadata": {},
   "outputs": [],
   "source": [
    "def ChangeBasis(first_basis, second_basis):\n",
    "    first_eigenvalues, first_eigenvectors = np.linalg.eig(first_basis)\n",
    "    second_eigenvalues, second_eigenvectors = np.linalg.eig(second_basis)\n",
    "    U = np.outer(second_eigenvectors[0], first_eigenvectors[0]) + np.outer(second_eigenvectors[1], first_eigenvectors[1])\n",
    "    return U"
   ]
  },
  {
   "cell_type": "code",
   "execution_count": 4,
   "id": "1e7a06c3-731c-4ddb-8481-e8f2e4c96bcc",
   "metadata": {},
   "outputs": [],
   "source": [
    "def GenerateBellState(eve = False):\n",
    "    qc = QuantumCircuit(3, 3)\n",
    "    qc.h(0)\n",
    "    qc.cx(0, 1)\n",
    "    if eve:\n",
    "        qc.cx(1, 2)\n",
    "        \n",
    "    return qc"
   ]
  },
  {
   "cell_type": "code",
   "execution_count": 5,
   "id": "4af38902-f65f-4639-b3f0-e106bf8f94ad",
   "metadata": {},
   "outputs": [],
   "source": [
    "def measure(qc):      \n",
    "    backend = Aer.get_backend('qasm_simulator')\n",
    "    transpiled_qc = transpile(qc, backend)\n",
    "    qobj = assemble(transpiled_qc, shots=1)\n",
    "    result = backend.run(qc, shots=1).result()\n",
    "    \n",
    "    counts = result.get_counts()\n",
    "    measured_bit = counts.most_frequent()\n",
    "    return measured_bit"
   ]
  },
  {
   "cell_type": "code",
   "execution_count": 6,
   "id": "968ba24a-488e-4f96-bff9-387e3fa978eb",
   "metadata": {},
   "outputs": [],
   "source": [
    "def measure_depolarization(rho):\n",
    "    outcome = \"\"\n",
    "    cdf = [0]\n",
    "    for i in range(0, rho.shape[0]):\n",
    "        cdf.append(cdf[i] + rho[i][i])\n",
    "\n",
    "    rand = np.random.rand()\n",
    "    \n",
    "    for i in range(len(cdf)):\n",
    "        if rand < cdf[i]:\n",
    "            outcome = format(i-1, '03b')\n",
    "            break\n",
    "\n",
    "    return outcome\n",
    "    \n",
    "    "
   ]
  },
  {
   "cell_type": "code",
   "execution_count": 7,
   "id": "de465cff-a4d0-4d85-8e65-b3ac834220c8",
   "metadata": {},
   "outputs": [],
   "source": [
    "def calculate(sequence_leangh, qc, basis, depolarization=False, p=1/2, q=1/2):\n",
    "    Alice_basis = random.choices([0, 1, 2], [1/3, 1/3, 1/3], k=sequence_leangh)\n",
    "    Bob_basis = random.choices([1, 2, 3], [1/3, 1/3, 1/3], k=sequence_leangh)\n",
    "    measured_bits = []\n",
    "    for i in range(sequence_leangh):\n",
    "\n",
    "        if depolarization == True:\n",
    "            rho = np.outer(np.array(Statevector(qc[i])), np.array(Statevector(qc[i])).conj())\n",
    "            dep_channel = bipartite_gate(depolarizing_kraus(p), depolarizing_kraus(q))\n",
    "            rho = channel(rho,dep_channel)\n",
    "\n",
    "            U = ChangeBasis([[1, 0],[0, -1]], basis[Alice_basis[i]])\n",
    "            U = np.kron(np.kron(np.eye(2), np.eye(2)), U)\n",
    "            rho = np.matmul(np.matmul(U, rho), U.conj().T)\n",
    "            \n",
    "            U = ChangeBasis([[1, 0],[0, -1]], basis[Bob_basis[i]])\n",
    "            U = np.kron(np.eye(2), np.kron(U, np.eye(2)))\n",
    "            rho = np.matmul(np.matmul(U, rho), U.conj().T)\n",
    "\n",
    "            outcome = measure_depolarization(rho)\n",
    "            measured_bits.append(outcome)\n",
    "            \n",
    "        \n",
    "        elif depolarization == False:\n",
    "            U = ChangeBasis([[1, 0],[0, -1]], basis[Alice_basis[i]])\n",
    "            U = Operator(U)\n",
    "            qc[i].unitary(U, 0)\n",
    "            U = ChangeBasis([[1, 0],[0, -1]], basis[Bob_basis[i]])\n",
    "            U = Operator(U)\n",
    "            qc[i].unitary(U, 1)\n",
    "            \n",
    "            qc[i].measure(0,0)\n",
    "            qc[i].measure(1, 1)\n",
    "            qc[i].measure(2, 2)\n",
    "            outcome = measure(qc[i])\n",
    "            measured_bits.append(outcome)\n",
    "\n",
    "\n",
    "        \n",
    "\n",
    "    return Alice_basis, Bob_basis, measured_bits\n",
    "        "
   ]
  },
  {
   "cell_type": "code",
   "execution_count": 8,
   "id": "0c290940-282f-4008-be51-2474e766547b",
   "metadata": {},
   "outputs": [],
   "source": [
    "def extract_matching_bits(Alice_basis, Bob_basis, measured_bits):\n",
    "    weak_key_alice = []\n",
    "    weak_key_bob = []\n",
    "    \n",
    "    for i in range(len(Alice_basis)):\n",
    "        if Alice_basis[i] == Bob_basis[i]:\n",
    "            weak_key_alice.append(measured_bits[i][2])\n",
    "            weak_key_bob.append(measured_bits[i][1])\n",
    "    \n",
    "    return weak_key_alice, weak_key_bob\n",
    "\n",
    "def calculate_difference_percentage(weak_key_alice, weak_key_bob):\n",
    "\n",
    "    weak_key_alice = [int(bit) for bit in weak_key_alice]\n",
    "    weak_key_bob = [int(bit) for bit in weak_key_bob]\n",
    "\n",
    "    differing_bits = sum(1 for i in range(len(weak_key_alice)) if weak_key_alice[i] != weak_key_bob[i])\n",
    "\n",
    "    difference_percentage = (differing_bits / len(weak_key_alice)) * 100\n",
    "\n",
    "    return difference_percentage\n",
    "\n",
    "def compare_and_display_key_difference(weak_key_alice, weak_key_bob):\n",
    "\n",
    "    difference_percentage = calculate_difference_percentage(weak_key_alice, weak_key_bob)\n",
    "    print(f\"Alice's key: {weak_key_alice}\")\n",
    "    print(f\"Bob's key: {weak_key_bob}\")\n",
    "    print(f\"Difference between Alice's and Bob's weak keys: {difference_percentage:.2f}%\")\n",
    "    print()"
   ]
  },
  {
   "cell_type": "code",
   "execution_count": 17,
   "id": "97d0582b-85e3-4f90-af0c-0787ebefa765",
   "metadata": {},
   "outputs": [],
   "source": [
    "def E91(sequence_leangh, shellBlock, shellIteration, eve = False, depolarization = False, p = 1/2, q = 1/2):\n",
    "    \n",
    "    qc = [GenerateBellState(eve) for i in range(sequence_leangh)]\n",
    "    X = np.array([[0, 1], [1, 0]])\n",
    "    Z = np.array([[1, 0], [0, -1]])\n",
    "    theta = 0\n",
    "    basis = []\n",
    "    \n",
    "    basis.append(np.cos(theta) * X + np.sin(theta) * Z)\n",
    "    basis.append(np.cos(theta + np.pi/4) * X + np.sin(theta + np.pi/4) * Z)\n",
    "    basis.append(np.cos(theta + np.pi/2) * X + np.sin(theta + np.pi/2) * Z)\n",
    "    basis.append(np.cos(theta + 3*np.pi/4) * X + np.sin(theta + 3*np.pi/4) * Z)\n",
    "\n",
    "    Alice_basis, Bob_basis, measured_bits = calculate(sequence_leangh, qc, basis, depolarization, p, q)\n",
    "\n",
    "    S = BellTest(sequence_leangh, Alice_basis, Bob_basis, measured_bits)\n",
    "    print(\"Bell test's experimental value:\", S)\n",
    "    print()\n",
    "    \n",
    "    #----------------------------------------------------------#\n",
    "    \n",
    "    weak_key_alice, weak_key_bob = extract_matching_bits(Alice_basis, Bob_basis, measured_bits)\n",
    "    weak_key_alice = ''.join(weak_key_alice)\n",
    "    weak_key_bob = ''.join(weak_key_bob)\n",
    "    print(\"weak keys:\")\n",
    "    compare_and_display_key_difference(weak_key_alice, weak_key_bob)\n",
    "\n",
    "    #----------------------------------------------------------#\n",
    "    \n",
    "    string1 = list(weak_key_alice)\n",
    "    string2 = list(weak_key_bob)\n",
    "    s1, s2 = shell_protocol(string1, string2, shellBlock, shellIteration)\n",
    "    reconcilated_key_Alice = ''.join(s1)\n",
    "    reconcilated_key_Bob = ''.join(s2) \n",
    "    print(\"reconcilated keys:\")\n",
    "    compare_and_display_key_difference(reconcilated_key_Alice, reconcilated_key_Bob)\n",
    "\n",
    "    #----------------------------------------------------------#\n",
    "    \n",
    "    final_key_length = 32  \n",
    "    family_size = 256\n",
    "    key_length = len(weak_key_alice)\n",
    "    hash_family = generate_hash_family(final_key_length, key_length, family_size)\n",
    "    \n",
    "    chosen_hash_index = random.randint(0, family_size - 1)\n",
    "    print(f\"Alice's chosen hash index: {chosen_hash_index}\")\n",
    "\n",
    "    H_alice = hash_family[chosen_hash_index]\n",
    "    H_bob = hash_family[chosen_hash_index]\n",
    "\n",
    "    hashed_key_alice = universal_hash_with_index(reconcilated_key_Alice, H_alice)\n",
    "    hashed_key_bob = universal_hash_with_index(reconcilated_key_Bob, H_bob)\n",
    "    #print(f\"Hashed key for Alice: {hashed_key_alice}\")\n",
    "    #print(f\"Hashed key for Bob: {hashed_key_bob}\")\n",
    "\n",
    "    secret_key = get_random_bytes(16)\n",
    "    final_secure_key_alice = secure_hash_using_hmac(secret_key, hashed_key_alice)\n",
    "    final_secure_key_bob = secure_hash_using_hmac(secret_key, hashed_key_bob)\n",
    "    print(f\"Final secure key for Alice: {final_secure_key_alice}\")\n",
    "    print(f\"Final secure key for Bob: {final_secure_key_bob}\")\n",
    "\n",
    "\n",
    "    "
   ]
  },
  {
   "cell_type": "code",
   "execution_count": 18,
   "id": "5d6b26cc-15d1-4f96-83ef-30473b352fb3",
   "metadata": {},
   "outputs": [
    {
     "name": "stdout",
     "output_type": "stream",
     "text": [
      "Bell test's experimental value: 2.8812365722988225\n",
      "\n",
      "weak keys:\n",
      "Alice's key: 000110110000011001110001100010101111010101100111011111100101100001101110100101010110110110110010001101011111110000011011110010011111001010111011111000110101100010100101001110110001100011011111010101111110010110001101001001110000101001100100101000100\n",
      "Bob's key: 000110110000011001110001100010101111010101100111011111100101100001101110100101010110110110110010001101011111110000011011110010011111001010111011111000110101100010100101001110110001100011011111010101111110010110001101001001110000101001100100101000100\n",
      "Difference between Alice's and Bob's weak keys: 0.00%\n",
      "\n",
      "reconcilated keys:\n",
      "Alice's key: 011011111000001100011101111001100100101000110110111110100000111001010110111011101110101001001101111100011000100110110010100000100001011101101110010111100001111101010111100110010010100001101101000000011111011000110110101001111010111011011001011011000\n",
      "Bob's key: 011011111000001100011101111001100100101000110110111110100000111001010110111011101110101001001101111100011000100110110010100000100001011101101110010111100001111101010111100110010010100001101101000000011111011000110110101001111010111011011001011011000\n",
      "Difference between Alice's and Bob's weak keys: 0.00%\n",
      "\n",
      "Alice's chosen hash index: 1\n",
      "Final secure key for Alice: c9560e7927d6ea4da8bb135aeb638c7f98191eba988ff3af382df4e3177084d0\n",
      "Final secure key for Bob: c9560e7927d6ea4da8bb135aeb638c7f98191eba988ff3af382df4e3177084d0\n"
     ]
    }
   ],
   "source": [
    "E91(sequence_leangh, shellBlock, shellIteration)"
   ]
  },
  {
   "cell_type": "code",
   "execution_count": 25,
   "id": "f8c95c5c-06f5-4982-ad5e-5fc427b00528",
   "metadata": {},
   "outputs": [
    {
     "name": "stdout",
     "output_type": "stream",
     "text": [
      "Bell test's experimental value: 1.985168974152025\n",
      "\n",
      "weak keys:\n",
      "Alice's key: 1100110000110001100101101001011011001000100011011111100011010110010001000101101110100010010001010010001101011101111011000100000010011110100010000000000010111100011110000110101111111100011000011011001010001111\n",
      "Bob's key: 0100110000010000100100111001011011001000000011111111101010010010111011000011001111000010010001000000001101000101111011010100000010001010100010000000000010111100111110000110111111111100011000011011001010001111\n",
      "Difference between Alice's and Bob's weak keys: 12.98%\n",
      "\n",
      "reconcilated keys:\n",
      "Alice's key: 1111010110110011000010010011010000110011010001000101001011010010101001101111000001100010100000101001011111000111100011000100011101111100101110001001001100111000001100110010111010010110110101001101100110000100\n",
      "Bob's key: 1111010110110011000010010011010000110011010001000101001011010010101001101111000001100010100000101001011111000111100011000100011101111100101110001001001100111000001100110010111010010110110101001101100110000100\n",
      "Difference between Alice's and Bob's weak keys: 0.00%\n",
      "\n",
      "Alice's chosen hash index: 157\n",
      "Final secure key for Alice: 8f03b5a48a0f72dacda07a9aeabf73478b0a68398e9d2822e617d5a943d52498\n",
      "Final secure key for Bob: 8f03b5a48a0f72dacda07a9aeabf73478b0a68398e9d2822e617d5a943d52498\n"
     ]
    }
   ],
   "source": [
    "E91(sequence_leangh, shellBlock, shellIteration, depolarization = True, p = 0.1, q = 0.1)"
   ]
  },
  {
   "cell_type": "code",
   "execution_count": 20,
   "id": "da1f731a-4ec0-4285-833b-99e54ff81ba5",
   "metadata": {},
   "outputs": [
    {
     "name": "stdout",
     "output_type": "stream",
     "text": [
      "Bell test's experimental value: 1.6477573624897852\n",
      "\n",
      "weak keys:\n",
      "Alice's key: 11101001111101101100011011010110100100110110000001010111110101010001100110001111100101100001111100011011010000010000010101001111011100000001000110110000000010100000110111001100100011111011111100011101111000100101010000000\n",
      "Bob's key: 11101011011101101100011011010100100100110100000100010111110101000001100101101111000101110001111100011111010000010000010111001111111000000011100110110000100010100000010110001100100011101111111000011101111100100101010000000\n",
      "Difference between Alice's and Bob's weak keys: 11.31%\n",
      "\n",
      "reconcilated keys:\n",
      "Alice's key: 11010011011010110101101000000101100011100000100111010011111010100101111010111010111110011011000010000011000011101010010101110011110110010001100011100111100011000000001001100101000010111101000010110001010001011000101110100\n",
      "Bob's key: 11010011011010100101101000000101100011100000100111010011111010100101111010111010111110011011000010000011000011101010010101110011110110010001100011100111100011000000001001100101000010111101000010110001010001010000101110100\n",
      "Difference between Alice's and Bob's weak keys: 0.90%\n",
      "\n",
      "Alice's chosen hash index: 70\n",
      "Final secure key for Alice: 596be7d69e9e4a254e35db5e47bb0570be1218abd200088a16ccf1135836a500\n",
      "Final secure key for Bob: 24374a2da45211cd9fc4dd8ba237ff3534de4dfeefd66fd3e1d9dff848d0e484\n"
     ]
    }
   ],
   "source": [
    "E91(sequence_leangh, shellBlock, shellIteration, eve = True)"
   ]
  },
  {
   "cell_type": "code",
   "execution_count": 21,
   "id": "4a9e6997-1bfc-4a6d-81a1-4f6567bcbc79",
   "metadata": {},
   "outputs": [
    {
     "name": "stdout",
     "output_type": "stream",
     "text": [
      "Bell test's experimental value: 1.0909819226139774\n",
      "\n",
      "weak keys:\n",
      "Alice's key: 1110111100010010100111010111010011110001000101100001001010001101001100010010101111011011010011101101101110010000111011001010011011001100010101101111111000011000011010010011100000001010110010100110010010101000111001\n",
      "Bob's key: 1111101100010010100101010111010101110001000101100001001010001101000100011010101111001111110011101111101110011000111111011010111010001110010101110111111010101010011111010011010000001000110111100100000010111000111011\n",
      "Difference between Alice's and Bob's weak keys: 15.89%\n",
      "\n",
      "reconcilated keys:\n",
      "Alice's key: 0101111101000001001110101010111011000100101111001111101001101111010110001111101010101010100000011010000111001100011101001001011100001001101100101100011000111111101001100011000100000011100110011101001000100011010001\n",
      "Bob's key: 1101111101000001001110101010111011000100101111001011101001101111110110011101101010101010100000011011000111001100011101000001011100001001110101101100011000111111101001100010000100010010110110011101101000100001010001\n",
      "Difference between Alice's and Bob's weak keys: 7.48%\n",
      "\n",
      "Alice's chosen hash index: 104\n",
      "Final secure key for Alice: e900efc3e90b6b8f194c7672e35e44ebc03a7671a863be750190f11f2572a2f3\n",
      "Final secure key for Bob: ec1e85b87054509f1d625b3e3974c886d6ffab05dc8315c12fe63ca6849a4f52\n"
     ]
    }
   ],
   "source": [
    "E91(sequence_leangh, shellBlock, shellIteration, eve = True, depolarization = True, p = 0.1, q = 0.1)"
   ]
  },
  {
   "cell_type": "code",
   "execution_count": null,
   "id": "35fb4a60-9b35-4f42-99ec-745bb228aec3",
   "metadata": {},
   "outputs": [],
   "source": []
  },
  {
   "cell_type": "code",
   "execution_count": null,
   "id": "9743c32c-0c0e-417c-815d-2cbe2f7d21d8",
   "metadata": {},
   "outputs": [],
   "source": []
  },
  {
   "cell_type": "code",
   "execution_count": null,
   "id": "cc1e61f3-bf62-4d9a-9870-3ea2b55263eb",
   "metadata": {},
   "outputs": [],
   "source": []
  },
  {
   "cell_type": "code",
   "execution_count": null,
   "id": "73f21bc7-adbd-45ce-bd95-d248c7a61dd4",
   "metadata": {},
   "outputs": [],
   "source": []
  },
  {
   "cell_type": "code",
   "execution_count": null,
   "id": "94d15378-0708-4119-b9ec-f993383f854c",
   "metadata": {},
   "outputs": [],
   "source": []
  },
  {
   "cell_type": "code",
   "execution_count": null,
   "id": "e6b3a7c9-cafb-459e-adc9-68d94d0796f1",
   "metadata": {},
   "outputs": [],
   "source": []
  },
  {
   "cell_type": "code",
   "execution_count": null,
   "id": "7a66ab74-4ba4-4b26-9a24-4c9c5ab308a4",
   "metadata": {},
   "outputs": [],
   "source": []
  },
  {
   "cell_type": "code",
   "execution_count": null,
   "id": "56323507-a025-4048-88c6-ebb2ff13ec60",
   "metadata": {},
   "outputs": [],
   "source": []
  },
  {
   "cell_type": "code",
   "execution_count": null,
   "id": "48c0ec63-02f9-4b98-8986-1db820853cc1",
   "metadata": {},
   "outputs": [],
   "source": []
  },
  {
   "cell_type": "code",
   "execution_count": null,
   "id": "97d95f3f-c9b8-4166-8e0b-faecdb06a410",
   "metadata": {},
   "outputs": [],
   "source": []
  }
 ],
 "metadata": {
  "kernelspec": {
   "display_name": "Python 3 (ipykernel)",
   "language": "python",
   "name": "python3"
  },
  "language_info": {
   "codemirror_mode": {
    "name": "ipython",
    "version": 3
   },
   "file_extension": ".py",
   "mimetype": "text/x-python",
   "name": "python",
   "nbconvert_exporter": "python",
   "pygments_lexer": "ipython3",
   "version": "3.11.7"
  }
 },
 "nbformat": 4,
 "nbformat_minor": 5
}
